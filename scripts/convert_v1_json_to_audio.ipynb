{
 "cells": [
  {
   "cell_type": "code",
   "execution_count": 1,
   "metadata": {},
   "outputs": [],
   "source": [
    "import boto3\n",
    "import hashlib\n",
    "import string\n",
    "import os\n",
    "import json\n",
    "import re\n",
    "root_dir = '../Themes'\n",
    "audio_dir = '../audio'"
   ]
  },
  {
   "cell_type": "code",
   "execution_count": 2,
   "metadata": {},
   "outputs": [
    {
     "name": "stdout",
     "output_type": "stream",
     "text": [
      "Processed: Gaslighting with 466 new entries\n",
      "Processed: Obedience with 483 new entries\n",
      "Processed: Dreaming with 418 new entries\n",
      "Processed: Acceptance with 370 new entries\n",
      "Processed: Brainwashing with 373 new entries\n",
      "Processed: Mindbreak with 136 new entries\n",
      "Processed: Relaxation with 548 new entries\n",
      "Processed: Suggestibility with 546 new entries\n",
      "Processed: Bimbo with 163 new entries\n",
      "Processed: Slave with 450 new entries\n",
      "Processed: Addiction with 2 new entries\n",
      "Processed: Feminine with 270 new entries\n"
     ]
    }
   ],
   "source": [
    "polly = boto3.client('polly')\n",
    "\n",
    "os.makedirs(audio_dir, exist_ok=True)\n",
    "\n",
    "processed_lines = set()\n",
    "# Include existing mp3 files in processed_lines\n",
    "for filename in os.listdir(audio_dir):\n",
    "    if filename.endswith('.mp3'):\n",
    "        file_root = os.path.splitext(filename)[0]  # Remove file extension\n",
    "        processed_lines.add(file_root)\n",
    "\n",
    "for subdir, _, files in os.walk(root_dir):\n",
    "    for file in files:\n",
    "        if file.endswith('.json'):\n",
    "            new_entries = 0\n",
    "            file_path = os.path.join(subdir, file)\n",
    "            theme = os.path.splitext(file)[0]\n",
    "            try:\n",
    "                with open(file_path, 'r', encoding='utf-8') as f:\n",
    "                    data = json.load(f)\n",
    "                    for entry in data:\n",
    "                        line = entry.get('line', '')\n",
    "                        # Normalize the line to create a unique key\n",
    "                        line_key = line.translate(str.maketrans('', '', string.punctuation)).replace(' ', '').lower()\n",
    "                        line_hash = hashlib.sha256(line_key.encode('utf-8')).hexdigest()\n",
    "                        if line_hash in processed_lines:\n",
    "                            continue\n",
    "                        response = polly.synthesize_speech(\n",
    "                            Text=line,\n",
    "                            OutputFormat='mp3',\n",
    "                            VoiceId='Salli'  # Standard voice, not neural\n",
    "                        )\n",
    "                        new_entries += 1\n",
    "                        audio_file_path = os.path.join(audio_dir, f\"{line_hash}.mp3\")\n",
    "                        with open(audio_file_path, 'wb') as audio_file:\n",
    "                            audio_file.write(response['AudioStream'].read())\n",
    "                        processed_lines.add(line_hash)\n",
    "                if new_entries:\n",
    "                    print(f\"Processed: {theme} with {new_entries} new entries\")\n",
    "            except Exception as e:\n",
    "                print(f\"Error processing file {file}: {e}\")"
   ]
  },
  {
   "cell_type": "code",
   "execution_count": 20,
   "metadata": {},
   "outputs": [
    {
     "name": "stdout",
     "output_type": "stream",
     "text": [
      "Error processing file Gaslighting.json: name 'processed_lines' is not defined\n",
      "Error processing file Obedience.json: name 'processed_lines' is not defined\n",
      "Error processing file Dreaming.json: name 'processed_lines' is not defined\n",
      "Error processing file Acceptance.json: name 'processed_lines' is not defined\n",
      "Error processing file Brainwashing.json: name 'processed_lines' is not defined\n",
      "Error processing file Mindbreak.json: name 'processed_lines' is not defined\n",
      "Error processing file Relaxation.json: name 'processed_lines' is not defined\n",
      "Error processing file Suggestibility.json: name 'processed_lines' is not defined\n",
      "Error processing file Bimbo.json: name 'processed_lines' is not defined\n",
      "Error processing file Doll.json: name 'processed_lines' is not defined\n",
      "Error processing file Slave.json: name 'processed_lines' is not defined\n",
      "Error processing file Addiction.json: name 'processed_lines' is not defined\n",
      "Error processing file Feminine.json: name 'processed_lines' is not defined\n",
      "No orphaned or abandoned lines found.\n"
     ]
    }
   ],
   "source": [
    "orphaned_lines = []\n",
    "\n",
    "for subdir, _, files in os.walk(root_dir):\n",
    "    for file in files:\n",
    "        if file.endswith('.json'):\n",
    "            file_path = os.path.join(subdir, file)\n",
    "            try:\n",
    "                with open(file_path, 'r', encoding='utf-8') as f:\n",
    "                    data = json.load(f)\n",
    "                    for entry in data:\n",
    "                        line = entry.get('line', '')\n",
    "                        if not line:\n",
    "                            orphaned_lines.append({'file': file, 'entry': entry, 'reason': 'Missing line'})\n",
    "                            continue\n",
    "                        # Generate line hash as before\n",
    "                        line_key = line.translate(str.maketrans('', '', string.punctuation)).replace(' ', '').lower()\n",
    "                        line_hash = hashlib.sha256(line_key.encode('utf-8')).hexdigest()\n",
    "                        if line_hash not in processed_lines:\n",
    "                            orphaned_lines.append({'file': file, 'line': line, 'reason': 'No audio associated'})\n",
    "            except Exception as e:\n",
    "                print(f\"Error processing file {file}: {e}\")\n",
    "\n",
    "if orphaned_lines:\n",
    "    print(\"The following entries are orphaned:\")\n",
    "    for orphan in orphaned_lines:\n",
    "        print(f\"File: {orphan['file']}, Line: {orphan.get('line', '')}, Reason: {orphan['reason']}\")\n",
    "else:\n",
    "    print(\"No orphaned or abandoned lines found.\")"
   ]
  }
 ],
 "metadata": {
  "kernelspec": {
   "display_name": "Python 3",
   "language": "python",
   "name": "python3"
  },
  "language_info": {
   "codemirror_mode": {
    "name": "ipython",
    "version": 3
   },
   "file_extension": ".py",
   "mimetype": "text/x-python",
   "name": "python",
   "nbconvert_exporter": "python",
   "pygments_lexer": "ipython3",
   "version": "3.11.9"
  }
 },
 "nbformat": 4,
 "nbformat_minor": 2
}
