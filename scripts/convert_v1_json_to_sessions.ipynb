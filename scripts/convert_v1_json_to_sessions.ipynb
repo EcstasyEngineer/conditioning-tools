{
 "cells": [
  {
   "cell_type": "code",
   "execution_count": 38,
   "metadata": {},
   "outputs": [],
   "source": [
    "import os\n",
    "import json\n",
    "import pandas as pd\n",
    "import hashlib\n",
    "import string"
   ]
  },
  {
   "cell_type": "code",
   "execution_count": 20,
   "metadata": {},
   "outputs": [
    {
     "data": {
      "text/plain": [
       "['..\\\\Themes\\\\Ds\\\\Gaslighting.json',\n",
       " '..\\\\Themes\\\\Ds\\\\Obedience.json',\n",
       " '..\\\\Themes\\\\Experience\\\\Dreaming.json',\n",
       " '..\\\\Themes\\\\Hypnosis\\\\Acceptance.json',\n",
       " '..\\\\Themes\\\\Hypnosis\\\\Brainwashing.json',\n",
       " '..\\\\Themes\\\\Hypnosis\\\\Mindbreak.json',\n",
       " '..\\\\Themes\\\\Hypnosis\\\\Relaxation.json',\n",
       " '..\\\\Themes\\\\Hypnosis\\\\Suggestibility.json',\n",
       " '..\\\\Themes\\\\Identity\\\\Bimbo.json',\n",
       " '..\\\\Themes\\\\Identity\\\\Doll.json',\n",
       " '..\\\\Themes\\\\Identity\\\\Slave.json',\n",
       " '..\\\\Themes\\\\Personality\\\\Addiction.json',\n",
       " '..\\\\Themes\\\\Personality\\\\Feminine.json']"
      ]
     },
     "execution_count": 20,
     "metadata": {},
     "output_type": "execute_result"
    }
   ],
   "source": [
    "\n",
    "json_files = [\n",
    "    os.path.join(root, fname)\n",
    "    for root, _, files in os.walk(os.path.join(\"..\",\"Themes\"))\n",
    "    for fname in files\n",
    "    if fname.endswith(\".json\")\n",
    "]\n",
    "json_files"
   ]
  },
  {
   "cell_type": "code",
   "execution_count": 36,
   "metadata": {},
   "outputs": [
    {
     "name": "stdout",
     "output_type": "stream",
     "text": [
      "..\\audio\\d7924c282211a2c2394ec0cce2e9d868deba8bec4555157169710f9d8f9df677.mp3\n",
      "..\\audio\\d7924c282211a2c2394ec0cce2e9d868deba8bec4555157169710f9d8f9df677.mp3\n"
     ]
    }
   ],
   "source": [
    "def get_audio_file(line_text,audio_dir):\n",
    "    line_key = line_text.translate(str.maketrans('', '', string.punctuation)).replace(' ', '').lower()\n",
    "    line_hash = hashlib.sha256(line_key.encode('utf-8')).hexdigest()\n",
    "    return os.path.join(audio_dir, f\"{line_hash}.mp3\")\n",
    "\n",
    "# text is somewhat normalized to help prevent duplication of audio\n",
    "print(get_audio_file(\"I trust Master's version of events completely.\",\"..\\\\audio\"))\n",
    "print(get_audio_file(\"i trust Masters version of events completely\",\"..\\\\audio\"))"
   ]
  },
  {
   "cell_type": "code",
   "execution_count": 21,
   "metadata": {},
   "outputs": [],
   "source": [
    "theme_file = json_files[0]"
   ]
  },
  {
   "cell_type": "code",
   "execution_count": 39,
   "metadata": {},
   "outputs": [
    {
     "data": {
      "text/html": [
       "<div>\n",
       "<style scoped>\n",
       "    .dataframe tbody tr th:only-of-type {\n",
       "        vertical-align: middle;\n",
       "    }\n",
       "\n",
       "    .dataframe tbody tr th {\n",
       "        vertical-align: top;\n",
       "    }\n",
       "\n",
       "    .dataframe thead th {\n",
       "        text-align: right;\n",
       "    }\n",
       "</style>\n",
       "<table border=\"1\" class=\"dataframe\">\n",
       "  <thead>\n",
       "    <tr style=\"text-align: right;\">\n",
       "      <th></th>\n",
       "      <th>type</th>\n",
       "      <th>line</th>\n",
       "      <th>theme</th>\n",
       "      <th>dominant</th>\n",
       "      <th>submissive</th>\n",
       "      <th>difficulty</th>\n",
       "    </tr>\n",
       "  </thead>\n",
       "  <tbody>\n",
       "    <tr>\n",
       "      <th>0</th>\n",
       "      <td>audio</td>\n",
       "      <td>I trust Master's version of events completely.</td>\n",
       "      <td>Gaslighting</td>\n",
       "      <td>Master</td>\n",
       "      <td>None</td>\n",
       "      <td>BASIC</td>\n",
       "    </tr>\n",
       "    <tr>\n",
       "      <th>1</th>\n",
       "      <td>audio</td>\n",
       "      <td>Bambi trusts Master's version of events comple...</td>\n",
       "      <td>Gaslighting</td>\n",
       "      <td>Master</td>\n",
       "      <td>Bambi</td>\n",
       "      <td>BASIC</td>\n",
       "    </tr>\n",
       "    <tr>\n",
       "      <th>2</th>\n",
       "      <td>audio</td>\n",
       "      <td>My memory is hazy; Master knows the truth.</td>\n",
       "      <td>Gaslighting</td>\n",
       "      <td>Master</td>\n",
       "      <td>None</td>\n",
       "      <td>BASIC</td>\n",
       "    </tr>\n",
       "    <tr>\n",
       "      <th>3</th>\n",
       "      <td>audio</td>\n",
       "      <td>Bambi's memory is hazy; Master knows the truth.</td>\n",
       "      <td>Gaslighting</td>\n",
       "      <td>Master</td>\n",
       "      <td>Bambi</td>\n",
       "      <td>BASIC</td>\n",
       "    </tr>\n",
       "    <tr>\n",
       "      <th>4</th>\n",
       "      <td>audio</td>\n",
       "      <td>I can't always trust my own thoughts.</td>\n",
       "      <td>Gaslighting</td>\n",
       "      <td>None</td>\n",
       "      <td>None</td>\n",
       "      <td>BASIC</td>\n",
       "    </tr>\n",
       "    <tr>\n",
       "      <th>...</th>\n",
       "      <td>...</td>\n",
       "      <td>...</td>\n",
       "      <td>...</td>\n",
       "      <td>...</td>\n",
       "      <td>...</td>\n",
       "      <td>...</td>\n",
       "    </tr>\n",
       "    <tr>\n",
       "      <th>571</th>\n",
       "      <td>audio</td>\n",
       "      <td>Masterâ€™s wisdom shines through Bambi's uncer...</td>\n",
       "      <td>Gaslighting</td>\n",
       "      <td>Master</td>\n",
       "      <td>Bambi</td>\n",
       "      <td>LIGHT</td>\n",
       "    </tr>\n",
       "    <tr>\n",
       "      <th>572</th>\n",
       "      <td>audio</td>\n",
       "      <td>Every worry fades when I focus on Masterâ€™s v...</td>\n",
       "      <td>Gaslighting</td>\n",
       "      <td>Master</td>\n",
       "      <td>None</td>\n",
       "      <td>LIGHT</td>\n",
       "    </tr>\n",
       "    <tr>\n",
       "      <th>573</th>\n",
       "      <td>audio</td>\n",
       "      <td>Every worry fades when Bambi focuses on Master...</td>\n",
       "      <td>Gaslighting</td>\n",
       "      <td>Master</td>\n",
       "      <td>Bambi</td>\n",
       "      <td>LIGHT</td>\n",
       "    </tr>\n",
       "    <tr>\n",
       "      <th>574</th>\n",
       "      <td>audio</td>\n",
       "      <td>I find peace in releasing the need to know eve...</td>\n",
       "      <td>Gaslighting</td>\n",
       "      <td>None</td>\n",
       "      <td>None</td>\n",
       "      <td>LIGHT</td>\n",
       "    </tr>\n",
       "    <tr>\n",
       "      <th>575</th>\n",
       "      <td>audio</td>\n",
       "      <td>Bambi finds peace in releasing the need to kno...</td>\n",
       "      <td>Gaslighting</td>\n",
       "      <td>None</td>\n",
       "      <td>Bambi</td>\n",
       "      <td>LIGHT</td>\n",
       "    </tr>\n",
       "  </tbody>\n",
       "</table>\n",
       "<p>576 rows × 6 columns</p>\n",
       "</div>"
      ],
      "text/plain": [
       "      type                                               line        theme  \\\n",
       "0    audio     I trust Master's version of events completely.  Gaslighting   \n",
       "1    audio  Bambi trusts Master's version of events comple...  Gaslighting   \n",
       "2    audio         My memory is hazy; Master knows the truth.  Gaslighting   \n",
       "3    audio    Bambi's memory is hazy; Master knows the truth.  Gaslighting   \n",
       "4    audio              I can't always trust my own thoughts.  Gaslighting   \n",
       "..     ...                                                ...          ...   \n",
       "571  audio  Masterâ€™s wisdom shines through Bambi's uncer...  Gaslighting   \n",
       "572  audio  Every worry fades when I focus on Masterâ€™s v...  Gaslighting   \n",
       "573  audio  Every worry fades when Bambi focuses on Master...  Gaslighting   \n",
       "574  audio  I find peace in releasing the need to know eve...  Gaslighting   \n",
       "575  audio  Bambi finds peace in releasing the need to kno...  Gaslighting   \n",
       "\n",
       "    dominant submissive difficulty  \n",
       "0     Master       None      BASIC  \n",
       "1     Master      Bambi      BASIC  \n",
       "2     Master       None      BASIC  \n",
       "3     Master      Bambi      BASIC  \n",
       "4       None       None      BASIC  \n",
       "..       ...        ...        ...  \n",
       "571   Master      Bambi      LIGHT  \n",
       "572   Master       None      LIGHT  \n",
       "573   Master      Bambi      LIGHT  \n",
       "574     None       None      LIGHT  \n",
       "575     None      Bambi      LIGHT  \n",
       "\n",
       "[576 rows x 6 columns]"
      ]
     },
     "execution_count": 39,
     "metadata": {},
     "output_type": "execute_result"
    }
   ],
   "source": [
    "theme_data = json.load(open(theme_file))\n",
    "df = pd.DataFrame(theme_data)\n",
    "df"
   ]
  },
  {
   "cell_type": "code",
   "execution_count": 41,
   "metadata": {},
   "outputs": [
    {
     "name": "stdout",
     "output_type": "stream",
     "text": [
      "['BASIC' 'LIGHT' 'MODERATE' 'DEEP' 'EXTREME']\n",
      "['Gaslighting']\n"
     ]
    }
   ],
   "source": [
    "print(df.difficulty.unique())\n",
    "print(df.theme.unique())"
   ]
  }
 ],
 "metadata": {
  "kernelspec": {
   "display_name": "Python 3",
   "language": "python",
   "name": "python3"
  },
  "language_info": {
   "codemirror_mode": {
    "name": "ipython",
    "version": 3
   },
   "file_extension": ".py",
   "mimetype": "text/x-python",
   "name": "python",
   "nbconvert_exporter": "python",
   "pygments_lexer": "ipython3",
   "version": "3.11.9"
  }
 },
 "nbformat": 4,
 "nbformat_minor": 2
}
