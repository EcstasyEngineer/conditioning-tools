{
 "cells": [
  {
   "cell_type": "code",
   "execution_count": null,
   "metadata": {},
   "outputs": [],
   "source": [
    "import os\n",
    "import json\n",
    "import pandas as pd\n",
    "import hashlib\n",
    "import string\n",
    "import random\n",
    "from pydub import AudioSegment\n",
    "\n",
    "json_files = [\n",
    "    os.path.join(root, fname)\n",
    "    for root, _, files in os.walk(os.path.join(\"..\",\"Themes\"))\n",
    "    for fname in files\n",
    "    if fname.endswith(\".json\")\n",
    "]\n",
    "json_files"
   ]
  },
  {
   "cell_type": "code",
   "execution_count": null,
   "metadata": {},
   "outputs": [],
   "source": [
    "def get_audio_file(line_text,audio_dir):\n",
    "    line_key = line_text.translate(str.maketrans('', '', string.punctuation)).replace(' ', '').lower()\n",
    "    line_hash = hashlib.sha256(line_key.encode('utf-8')).hexdigest()\n",
    "    return os.path.join(audio_dir, f\"{line_hash}.mp3\")\n",
    "\n",
    "# text is somewhat normalized to help prevent duplication of audio\n",
    "print(get_audio_file(\"I trust Master's version of events completely.\",\"..\\\\audio\"))\n",
    "print(get_audio_file(\"i trust Masters version of events completely\",\"..\\\\audio\"))"
   ]
  },
  {
   "cell_type": "code",
   "execution_count": null,
   "metadata": {},
   "outputs": [],
   "source": [
    "for file in json_files:\n",
    "    theme = file.rsplit(\"\\\\\",1)[1].rsplit(\".\",1)[0]\n",
    "    theme_data = json.load(open(file))\n",
    "    df = pd.DataFrame(theme_data)\n",
    "    \n",
    "    difficulties = [\"BASIC\", \"LIGHT\", \"MODERATE\", \"DEEP\", \"EXTREME\"]\n",
    "    dominants = [\"Master\", \"Mistress\", None]\n",
    "    subjects = [\"Bambi\", None]\n",
    "    for dom in dominants:\n",
    "        for sub in subjects:\n",
    "            dom_condition = (df[\"dominant\"].isnull()) if dom is None else ((df[\"dominant\"] == dom) | (df[\"dominant\"].isnull()))\n",
    "            sub_condition = (df[\"subject\"].isnull()) if sub is None else ((df[\"subject\"] == sub) | (df[\"subject\"].isnull()))\n",
    "            new_final_audio = AudioSegment.silent(duration=0)\n",
    "            for diff in difficulties:\n",
    "                lines = df.loc[dom_condition & sub_condition & (df[\"difficulty\"] == diff), \"line\"].tolist()\n",
    "                random.shuffle(lines)\n",
    "                for line_text in lines:\n",
    "                    audio_file = get_audio_file(line_text, \"..\\\\audio\")\n",
    "                    try:\n",
    "                        segment = AudioSegment.from_mp3(audio_file)\n",
    "                        new_final_audio += segment\n",
    "                    except:\n",
    "                        print(f\"Could not find script audio for line: {line_text}\")\n",
    "            new_final_audio.export(f\"{theme}_Dom-{dom or 'None'}_Sub-{sub or 'None'}_Progression_Demo.mp3\", format=\"mp3\")\n"
   ]
  },
  {
   "cell_type": "markdown",
   "metadata": {},
   "source": [
    "**Testing Below**"
   ]
  },
  {
   "cell_type": "code",
   "execution_count": 4,
   "metadata": {},
   "outputs": [],
   "source": [
    "theme_file = json_files[0]\n",
    "theme_file"
   ]
  },
  {
   "cell_type": "code",
   "execution_count": null,
   "metadata": {},
   "outputs": [],
   "source": [
    "theme_data = json.load(open(theme_file))\n",
    "df = pd.DataFrame(theme_data)\n",
    "df"
   ]
  },
  {
   "cell_type": "code",
   "execution_count": null,
   "metadata": {},
   "outputs": [],
   "source": [
    "print(df.difficulty.unique())\n",
    "print(df.theme.unique())"
   ]
  },
  {
   "cell_type": "code",
   "execution_count": 8,
   "metadata": {},
   "outputs": [],
   "source": [
    "import random\n",
    "from pydub import AudioSegment\n",
    "\n",
    "final_audio = AudioSegment.silent(duration=0)\n",
    "difficulties = [\"BASIC\", \"LIGHT\", \"MODERATE\", \"DEEP\", \"EXTREME\"]\n",
    "dominants = [\"Master\", \"Mistress\", None]\n",
    "subjects = [\"Bambi\", None]\n",
    "for dom in dominants:\n",
    "    for sub in subjects:\n",
    "        dom_condition = (df[\"dominant\"].isnull()) if dom is None else ((df[\"dominant\"] == dom) | (df[\"dominant\"].isnull()))\n",
    "        sub_condition = (df[\"subject\"].isnull()) if sub is None else ((df[\"subject\"] == sub) | (df[\"subject\"].isnull()))\n",
    "        new_final_audio = AudioSegment.silent(duration=0)\n",
    "        for diff in difficulties:\n",
    "            lines = df.loc[dom_condition & sub_condition & (df[\"difficulty\"] == diff), \"line\"].tolist()\n",
    "            random.shuffle(lines)\n",
    "            for line_text in lines:\n",
    "                audio_file = get_audio_file(line_text, \"..\\\\audio\")\n",
    "                try:\n",
    "                    segment = AudioSegment.from_mp3(audio_file)\n",
    "                    new_final_audio += segment\n",
    "                except:\n",
    "                    print(f\"Could not find script audio for line: {line_text}\")\n",
    "        new_final_audio.export(f\"Theme_{dom or 'None'}_{sub or 'None'}_progressive.mp3\", format=\"mp3\")\n"
   ]
  },
  {
   "cell_type": "code",
   "execution_count": null,
   "metadata": {},
   "outputs": [],
   "source": [
    "print(get_audio_file(\"Mistressâ€™s version of events feels more real to Bambi over time.\",\"..\\\\audio\"))\n",
    "print(get_audio_file(\"Mistress's version of events feels more real to Bambi over time.\",\"..\\\\audio\"))"
   ]
  }
 ],
 "metadata": {
  "kernelspec": {
   "display_name": "Python 3",
   "language": "python",
   "name": "python3"
  },
  "language_info": {
   "codemirror_mode": {
    "name": "ipython",
    "version": 3
   },
   "file_extension": ".py",
   "mimetype": "text/x-python",
   "name": "python",
   "nbconvert_exporter": "python",
   "pygments_lexer": "ipython3",
   "version": "3.11.9"
  }
 },
 "nbformat": 4,
 "nbformat_minor": 2
}
