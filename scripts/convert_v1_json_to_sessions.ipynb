{
 "cells": [
  {
   "cell_type": "code",
   "execution_count": 5,
   "metadata": {},
   "outputs": [
    {
     "name": "stdout",
     "output_type": "stream",
     "text": [
      "..\\audio\\d7924c282211a2c2394ec0cce2e9d868deba8bec4555157169710f9d8f9df677.mp3\n",
      "..\\audio\\d7924c282211a2c2394ec0cce2e9d868deba8bec4555157169710f9d8f9df677.mp3\n"
     ]
    }
   ],
   "source": [
    "import os\n",
    "import json\n",
    "import pandas as pd\n",
    "import hashlib\n",
    "import string\n",
    "import random\n",
    "from pydub import AudioSegment\n",
    "\n",
    "json_files = [\n",
    "    os.path.join(root, fname)\n",
    "    for root, _, files in os.walk(os.path.join(\"..\",\"Themes\"))\n",
    "    for fname in files\n",
    "    if fname.endswith(\".json\")\n",
    "]\n",
    "json_files"
   ]
  },
  {
   "cell_type": "code",
   "execution_count": 4,
   "metadata": {},
   "outputs": [
    {
     "name": "stdout",
     "output_type": "stream",
     "text": [
      "..\\audio\\d7924c282211a2c2394ec0cce2e9d868deba8bec4555157169710f9d8f9df677.mp3\n",
      "..\\audio\\d7924c282211a2c2394ec0cce2e9d868deba8bec4555157169710f9d8f9df677.mp3\n"
     ]
    }
   ],
   "source": [
    "def get_audio_file(line_text,audio_dir):\n",
    "    line_key = line_text.translate(str.maketrans('', '', string.punctuation)).replace(' ', '').lower()\n",
    "    line_hash = hashlib.sha256(line_key.encode('utf-8')).hexdigest()\n",
    "    return os.path.join(audio_dir, f\"{line_hash}.mp3\")\n",
    "\n",
    "# text is somewhat normalized to help prevent duplication of audio\n",
    "print(get_audio_file(\"I trust Master's version of events completely.\",\"..\\\\audio\"))\n",
    "print(get_audio_file(\"i trust Masters version of events completely\",\"..\\\\audio\"))"
   ]
  },
  {
   "cell_type": "code",
   "execution_count": null,
   "metadata": {},
   "outputs": [],
   "source": [
    "for file in json_files:\n",
    "    theme = file.rsplit(\"\\\\\",1)[1].rsplit(\".\",1)[0]\n",
    "    theme_file = json_files[0]\n",
    "    theme_data = json.load(open(theme_file))\n",
    "    df = pd.DataFrame(theme_data)\n",
    "    \n",
    "    difficulties = [\"BASIC\", \"LIGHT\", \"MODERATE\", \"DEEP\", \"EXTREME\"]\n",
    "    dominants = [\"Master\", \"Mistress\", None]\n",
    "    subjects = [\"Bambi\", None]\n",
    "    for dom in dominants:\n",
    "        for sub in subjects:\n",
    "            dom_condition = (df[\"dominant\"].isnull()) if dom is None else ((df[\"dominant\"] == dom) | (df[\"dominant\"].isnull()))\n",
    "            sub_condition = (df[\"subject\"].isnull()) if sub is None else ((df[\"subject\"] == sub) | (df[\"subject\"].isnull()))\n",
    "            new_final_audio = AudioSegment.silent(duration=0)\n",
    "            for diff in difficulties:\n",
    "                lines = df.loc[dom_condition & sub_condition & (df[\"difficulty\"] == diff), \"line\"].tolist()\n",
    "                random.shuffle(lines)\n",
    "                for line_text in lines:\n",
    "                    audio_file = get_audio_file(line_text, \"..\\\\audio\")\n",
    "                    try:\n",
    "                        segment = AudioSegment.from_mp3(audio_file)\n",
    "                        new_final_audio += segment\n",
    "                    except:\n",
    "                        print(f\"Could not find script audio for line: {line_text}\")\n",
    "            new_final_audio.export(f\"Mantra_Progression_Test_{theme}_Dom-{dom or 'None'}_Sub-{sub or 'None'}_progressive.mp3\", format=\"mp3\")\n"
   ]
  },
  {
   "cell_type": "markdown",
   "metadata": {},
   "source": [
    "**Testing Below**"
   ]
  },
  {
   "cell_type": "code",
   "execution_count": 4,
   "metadata": {},
   "outputs": [],
   "source": [
    "theme_file = json_files[0]\n",
    "theme_file"
   ]
  },
  {
   "cell_type": "code",
   "execution_count": 5,
   "metadata": {},
   "outputs": [
    {
     "data": {
      "text/html": [
       "<div>\n",
       "<style scoped>\n",
       "    .dataframe tbody tr th:only-of-type {\n",
       "        vertical-align: middle;\n",
       "    }\n",
       "\n",
       "    .dataframe tbody tr th {\n",
       "        vertical-align: top;\n",
       "    }\n",
       "\n",
       "    .dataframe thead th {\n",
       "        text-align: right;\n",
       "    }\n",
       "</style>\n",
       "<table border=\"1\" class=\"dataframe\">\n",
       "  <thead>\n",
       "    <tr style=\"text-align: right;\">\n",
       "      <th></th>\n",
       "      <th>type</th>\n",
       "      <th>line</th>\n",
       "      <th>theme</th>\n",
       "      <th>dominant</th>\n",
       "      <th>subject</th>\n",
       "      <th>difficulty</th>\n",
       "    </tr>\n",
       "  </thead>\n",
       "  <tbody>\n",
       "    <tr>\n",
       "      <th>0</th>\n",
       "      <td>audio</td>\n",
       "      <td>I trust Master's version of events completely.</td>\n",
       "      <td>Gaslighting</td>\n",
       "      <td>Master</td>\n",
       "      <td>None</td>\n",
       "      <td>BASIC</td>\n",
       "    </tr>\n",
       "    <tr>\n",
       "      <th>1</th>\n",
       "      <td>audio</td>\n",
       "      <td>Bambi trusts Master's version of events comple...</td>\n",
       "      <td>Gaslighting</td>\n",
       "      <td>Master</td>\n",
       "      <td>Bambi</td>\n",
       "      <td>BASIC</td>\n",
       "    </tr>\n",
       "    <tr>\n",
       "      <th>2</th>\n",
       "      <td>audio</td>\n",
       "      <td>My memory is hazy; Master knows the truth.</td>\n",
       "      <td>Gaslighting</td>\n",
       "      <td>Master</td>\n",
       "      <td>None</td>\n",
       "      <td>BASIC</td>\n",
       "    </tr>\n",
       "    <tr>\n",
       "      <th>3</th>\n",
       "      <td>audio</td>\n",
       "      <td>Bambi's memory is hazy; Master knows the truth.</td>\n",
       "      <td>Gaslighting</td>\n",
       "      <td>Master</td>\n",
       "      <td>Bambi</td>\n",
       "      <td>BASIC</td>\n",
       "    </tr>\n",
       "    <tr>\n",
       "      <th>4</th>\n",
       "      <td>audio</td>\n",
       "      <td>I can't always trust my own thoughts.</td>\n",
       "      <td>Gaslighting</td>\n",
       "      <td>None</td>\n",
       "      <td>None</td>\n",
       "      <td>BASIC</td>\n",
       "    </tr>\n",
       "    <tr>\n",
       "      <th>...</th>\n",
       "      <td>...</td>\n",
       "      <td>...</td>\n",
       "      <td>...</td>\n",
       "      <td>...</td>\n",
       "      <td>...</td>\n",
       "      <td>...</td>\n",
       "    </tr>\n",
       "    <tr>\n",
       "      <th>969</th>\n",
       "      <td>audio</td>\n",
       "      <td>Bambi feels secure when she lets Mistress's tr...</td>\n",
       "      <td>Gaslighting</td>\n",
       "      <td>Mistress</td>\n",
       "      <td>Bambi</td>\n",
       "      <td>LIGHT</td>\n",
       "    </tr>\n",
       "    <tr>\n",
       "      <th>970</th>\n",
       "      <td>audio</td>\n",
       "      <td>Mistress's wisdom shines through my uncertainty.</td>\n",
       "      <td>Gaslighting</td>\n",
       "      <td>Mistress</td>\n",
       "      <td>None</td>\n",
       "      <td>LIGHT</td>\n",
       "    </tr>\n",
       "    <tr>\n",
       "      <th>971</th>\n",
       "      <td>audio</td>\n",
       "      <td>Mistress's wisdom shines through Bambi's uncer...</td>\n",
       "      <td>Gaslighting</td>\n",
       "      <td>Mistress</td>\n",
       "      <td>Bambi</td>\n",
       "      <td>LIGHT</td>\n",
       "    </tr>\n",
       "    <tr>\n",
       "      <th>972</th>\n",
       "      <td>audio</td>\n",
       "      <td>Every worry fades when I focus on Mistress's v...</td>\n",
       "      <td>Gaslighting</td>\n",
       "      <td>Mistress</td>\n",
       "      <td>None</td>\n",
       "      <td>LIGHT</td>\n",
       "    </tr>\n",
       "    <tr>\n",
       "      <th>973</th>\n",
       "      <td>audio</td>\n",
       "      <td>Every worry fades when Bambi focuses on Mistre...</td>\n",
       "      <td>Gaslighting</td>\n",
       "      <td>Mistress</td>\n",
       "      <td>Bambi</td>\n",
       "      <td>LIGHT</td>\n",
       "    </tr>\n",
       "  </tbody>\n",
       "</table>\n",
       "<p>974 rows × 6 columns</p>\n",
       "</div>"
      ],
      "text/plain": [
       "      type                                               line        theme  \\\n",
       "0    audio     I trust Master's version of events completely.  Gaslighting   \n",
       "1    audio  Bambi trusts Master's version of events comple...  Gaslighting   \n",
       "2    audio         My memory is hazy; Master knows the truth.  Gaslighting   \n",
       "3    audio    Bambi's memory is hazy; Master knows the truth.  Gaslighting   \n",
       "4    audio              I can't always trust my own thoughts.  Gaslighting   \n",
       "..     ...                                                ...          ...   \n",
       "969  audio  Bambi feels secure when she lets Mistress's tr...  Gaslighting   \n",
       "970  audio   Mistress's wisdom shines through my uncertainty.  Gaslighting   \n",
       "971  audio  Mistress's wisdom shines through Bambi's uncer...  Gaslighting   \n",
       "972  audio  Every worry fades when I focus on Mistress's v...  Gaslighting   \n",
       "973  audio  Every worry fades when Bambi focuses on Mistre...  Gaslighting   \n",
       "\n",
       "     dominant subject difficulty  \n",
       "0      Master    None      BASIC  \n",
       "1      Master   Bambi      BASIC  \n",
       "2      Master    None      BASIC  \n",
       "3      Master   Bambi      BASIC  \n",
       "4        None    None      BASIC  \n",
       "..        ...     ...        ...  \n",
       "969  Mistress   Bambi      LIGHT  \n",
       "970  Mistress    None      LIGHT  \n",
       "971  Mistress   Bambi      LIGHT  \n",
       "972  Mistress    None      LIGHT  \n",
       "973  Mistress   Bambi      LIGHT  \n",
       "\n",
       "[974 rows x 6 columns]"
      ]
     },
     "execution_count": 5,
     "metadata": {},
     "output_type": "execute_result"
    }
   ],
   "source": [
    "theme_data = json.load(open(theme_file))\n",
    "df = pd.DataFrame(theme_data)\n",
    "df"
   ]
  },
  {
   "cell_type": "code",
   "execution_count": 6,
   "metadata": {},
   "outputs": [
    {
     "name": "stdout",
     "output_type": "stream",
     "text": [
      "['BASIC' 'LIGHT' 'MODERATE' 'DEEP' 'EXTREME']\n",
      "['Gaslighting']\n"
     ]
    }
   ],
   "source": [
    "print(df.difficulty.unique())\n",
    "print(df.theme.unique())"
   ]
  },
  {
   "cell_type": "code",
   "execution_count": 8,
   "metadata": {},
   "outputs": [],
   "source": [
    "import random\n",
    "from pydub import AudioSegment\n",
    "\n",
    "final_audio = AudioSegment.silent(duration=0)\n",
    "difficulties = [\"BASIC\", \"LIGHT\", \"MODERATE\", \"DEEP\", \"EXTREME\"]\n",
    "dominants = [\"Master\", \"Mistress\", None]\n",
    "subjects = [\"Bambi\", None]\n",
    "for dom in dominants:\n",
    "    for sub in subjects:\n",
    "        dom_condition = (df[\"dominant\"].isnull()) if dom is None else ((df[\"dominant\"] == dom) | (df[\"dominant\"].isnull()))\n",
    "        sub_condition = (df[\"subject\"].isnull()) if sub is None else ((df[\"subject\"] == sub) | (df[\"subject\"].isnull()))\n",
    "        new_final_audio = AudioSegment.silent(duration=0)\n",
    "        for diff in difficulties:\n",
    "            lines = df.loc[dom_condition & sub_condition & (df[\"difficulty\"] == diff), \"line\"].tolist()\n",
    "            random.shuffle(lines)\n",
    "            for line_text in lines:\n",
    "                audio_file = get_audio_file(line_text, \"..\\\\audio\")\n",
    "                try:\n",
    "                    segment = AudioSegment.from_mp3(audio_file)\n",
    "                    new_final_audio += segment\n",
    "                except:\n",
    "                    print(f\"Could not find script audio for line: {line_text}\")\n",
    "        new_final_audio.export(f\"Theme_{dom or 'None'}_{sub or 'None'}_progressive.mp3\", format=\"mp3\")\n"
   ]
  },
  {
   "cell_type": "code",
   "execution_count": 50,
   "metadata": {},
   "outputs": [
    {
     "name": "stdout",
     "output_type": "stream",
     "text": [
      "..\\audio\\8bd295821e1924385e4dd79eb6da7c3583c7da14de43e49fa8d59b00240dcb8b.mp3\n",
      "..\\audio\\dfead5fe43b74c5bbca99ae2cf1d727b0eb31a02adc592b9d4cd8eaadef981a1.mp3\n"
     ]
    }
   ],
   "source": [
    "print(get_audio_file(\"Mistressâ€™s version of events feels more real to Bambi over time.\",\"..\\\\audio\"))\n",
    "print(get_audio_file(\"Mistress's version of events feels more real to Bambi over time.\",\"..\\\\audio\"))"
   ]
  }
 ],
 "metadata": {
  "kernelspec": {
   "display_name": "Python 3",
   "language": "python",
   "name": "python3"
  },
  "language_info": {
   "codemirror_mode": {
    "name": "ipython",
    "version": 3
   },
   "file_extension": ".py",
   "mimetype": "text/x-python",
   "name": "python",
   "nbconvert_exporter": "python",
   "pygments_lexer": "ipython3",
   "version": "3.11.9"
  }
 },
 "nbformat": 4,
 "nbformat_minor": 2
}
