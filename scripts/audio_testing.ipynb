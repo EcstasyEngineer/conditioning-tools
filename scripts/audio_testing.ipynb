{
 "cells": [
  {
   "cell_type": "code",
   "execution_count": 7,
   "metadata": {},
   "outputs": [],
   "source": [
    "import boto3\n",
    "from pydub import AudioSegment\n",
    "from pydub.playback import play\n",
    "from pydub.effects import normalize\n",
    "from io import BytesIO\n",
    "\n",
    "def add_reverb(audio: AudioSegment) -> AudioSegment:\n",
    "    # Extend audio by adding silence to allow the echo to fade\n",
    "    silence_duration = 250  # 250 ms of silence\n",
    "    silence = AudioSegment.silent(duration=silence_duration)\n",
    "    extended_audio = audio + silence  # Append silence to the end\n",
    "\n",
    "    # Simulated reverb effect: layering with a delayed, quieter copy\n",
    "    delay = extended_audio - 15  # Lower volume for the delayed layer\n",
    "    combined = extended_audio.overlay(delay, position=250)  # 250ms delay\n",
    "    return combined\n",
    "\n",
    "# Initialize Polly\n",
    "polly = boto3.client(\"polly\")\n",
    "\n",
    "# Synthesize speech\n",
    "response = polly.synthesize_speech(\n",
    "    Text=\"Hello, this is a reverb test.\",\n",
    "    OutputFormat=\"mp3\",\n",
    "    VoiceId=\"Salli\"\n",
    ")\n",
    "\n",
    "# Read audio stream into a seekable BytesIO object\n",
    "audio_stream = BytesIO(response[\"AudioStream\"].read())\n",
    "\n",
    "# Load the MP3 data into a pydub AudioSegment\n",
    "audio = AudioSegment.from_file(audio_stream, format=\"mp3\")\n",
    "\n",
    "# Add effects: Normalize and apply reverb\n",
    "audio = normalize(audio)  # Normalize volume\n",
    "audio_with_reverb = add_reverb(audio)\n",
    "\n",
    "\n",
    "# Play the processed audio\n",
    "play(audio_with_reverb)"
   ]
  },
  {
   "cell_type": "code",
   "execution_count": 2,
   "metadata": {},
   "outputs": [],
   "source": [
    "# Play the processed audio\n",
    "play(audio_with_reverb)"
   ]
  },
  {
   "cell_type": "code",
   "execution_count": 15,
   "metadata": {},
   "outputs": [],
   "source": [
    "import threading\n",
    "\n",
    "# Pan the audio to the right ear\n",
    "right_ear_audio = audio_with_reverb.pan(1.0)\n",
    "\n",
    "# Pan the audio to the left ear\n",
    "left_ear_audio = audio_with_reverb.pan(-1.0)\n",
    "\n",
    "# Create a silent audio segment of 0.5 seconds\n",
    "silence = AudioSegment.silent(duration=500)\n",
    "\n",
    "# Concatenate the right ear audio with the silence and then the left ear audio\n",
    "combined_audio = right_ear_audio.overlay(left_ear_audio, position=1000)\n",
    "# Function to play audio\n",
    "def play_audio(audio_segment):\n",
    "    play(audio_segment)\n",
    "\n",
    "# Create threads for playing audio\n",
    "thread1 = threading.Thread(target=play_audio, args=(combined_audio,))\n",
    "thread2 = threading.Thread(target=play_audio, args=(combined_audio,))\n",
    "\n",
    "# Start the threads\n",
    "thread1.start()\n",
    "thread2.start()\n",
    "\n",
    "# Wait for both threads to finish\n",
    "thread1.join()\n",
    "thread2.join()\n",
    "# Play the combined audio\n",
    "play(combined_audio)"
   ]
  }
 ],
 "metadata": {
  "kernelspec": {
   "display_name": "Python 3",
   "language": "python",
   "name": "python3"
  },
  "language_info": {
   "codemirror_mode": {
    "name": "ipython",
    "version": 3
   },
   "file_extension": ".py",
   "mimetype": "text/x-python",
   "name": "python",
   "nbconvert_exporter": "python",
   "pygments_lexer": "ipython3",
   "version": "3.11.9"
  }
 },
 "nbformat": 4,
 "nbformat_minor": 2
}
